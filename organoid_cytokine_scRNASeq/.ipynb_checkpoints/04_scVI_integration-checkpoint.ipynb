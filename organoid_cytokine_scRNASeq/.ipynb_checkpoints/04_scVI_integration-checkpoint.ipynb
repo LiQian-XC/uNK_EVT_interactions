{
 "cells": [
  {
   "cell_type": "code",
   "execution_count": 1,
   "metadata": {},
   "outputs": [],
   "source": [
    "import scanpy as sc\n",
    "import pandas as pd\n",
    "import numpy as np\n",
    "import matplotlib.pyplot as plt\n",
    "import scvi\n",
    "import sys\n",
    "import os"
   ]
  },
  {
   "cell_type": "code",
   "execution_count": 2,
   "metadata": {},
   "outputs": [],
   "source": [
    "dd = '/home/ql312/rds/rds-turco-lab4-oIhPyuXA8U8/raw_data/trophoblast_organoid_from_Sanger'\n",
    "sp1 = ['6044STDY864056' + str(i+1) for i in range(6)]\n",
    "sp2 = ['Pla_Camb101239' + str(i) for i in range(28, 36, 1)]\n",
    "sps = sp1 + sp2\n",
    "dd2 = '/home/ql312/rds/hpc-work/tropho_organoid_EVT'"
   ]
  },
  {
   "cell_type": "markdown",
   "metadata": {},
   "source": [
    "Cells that were 1) having > 20% of mitochondria genes; 2) unassigned to a donor or assigned to multiple donors by Souporcell; 3) falling within the doublet-enriched clusters were excluded from the downstream analysis."
   ]
  },
  {
   "cell_type": "code",
   "execution_count": 3,
   "metadata": {},
   "outputs": [],
   "source": [
    "adatas = []\n",
    "for ff in sps:\n",
    "    adata = sc.read_10x_mtx(f'{dd}/{ff}/cellranger_res/{ff}/outs/filtered_feature_bc_matrix/')\n",
    "    info = pd.read_csv(f'{dd2}/sample_info_{ff}.csv', index_col=0)\n",
    "    ind = (info['pct_counts_mt'] < 20) & (info['ID']!='unassigned') & (~info['doublet_local_pred'])\n",
    "    adata = adata[ind, :]\n",
    "    info = info[ind]\n",
    "    adata.obs = info\n",
    "    adatas.append(adata)\n",
    "adata = adatas[0].concatenate(adatas[1:], batch_categories=sps)"
   ]
  },
  {
   "cell_type": "markdown",
   "metadata": {},
   "source": [
    "Filter genes detected in less than 20 cells and select the highly variable genes."
   ]
  },
  {
   "cell_type": "code",
   "execution_count": null,
   "metadata": {},
   "outputs": [],
   "source": [
    "sc.pp.filter_genes(adata, min_cells=20)\n",
    "adata.layers['counts'] = adata.X.copy()\n",
    "adata.raw = adata\n",
    "sc.pp.normalize_total(adata, target_sum=1e4)\n",
    "sc.pp.log1p(adata)\n",
    "sc.pp.highly_variable_genes(adata, layer='counts', n_top_genes=hvg, flavor='seurat_v3', batch_key='ID', subset=True)"
   ]
  },
  {
   "cell_type": "markdown",
   "metadata": {},
   "source": [
    "Run scVI based on all cells."
   ]
  },
  {
   "cell_type": "code",
   "execution_count": null,
   "metadata": {},
   "outputs": [],
   "source": [
    "scvi.data.setup_anndata(adata, layer=\"counts\", batch_key=\"ID\")\n",
    "vae = scvi.model.SCVI(adata, n_latent=lv)\n",
    "vae.train()\n",
    "adata.obsm[\"X_scVI\"] = vae.get_latent_representation()\n",
    "sc.pp.neighbors(adata, use_rep=\"X_scVI\")\n",
    "sc.tl.leiden(adata)\n",
    "sc.tl.umap(adata, min_dist=0.3)"
   ]
  },
  {
   "cell_type": "markdown",
   "metadata": {},
   "source": [
    "Plot trophoblast and proliferating marker genes."
   ]
  },
  {
   "cell_type": "code",
   "execution_count": null,
   "metadata": {},
   "outputs": [],
   "source": [
    "fig, axs = plt.subplots(ncols=4, nrows=1, figsize=(20, 5))\n",
    "for i, gg in enumerate(['DUSP9', 'CYP19A1', 'HLA-G', 'MKI67']):\n",
    "    sc.pl.umap(adata, color=gg, show=False, ax=axs[i], use_raw=False)\n",
    "plt.show()"
   ]
  },
  {
   "cell_type": "markdown",
   "metadata": {},
   "source": [
    "Plot the number of genes detected in each cell. For each type of trophoblast cells, there were clusters of cells which were isolated from their corresponding cell types in the UMAP and had a much lower number of genes detected"
   ]
  },
  {
   "cell_type": "code",
   "execution_count": null,
   "metadata": {},
   "outputs": [],
   "source": [
    "sc.pl.umap(adata, color='n_genes_by_counts')"
   ]
  },
  {
   "cell_type": "markdown",
   "metadata": {},
   "source": [
    "Annotate each Leiden cluster based on established trophoblast marker genes."
   ]
  },
  {
   "cell_type": "code",
   "execution_count": null,
   "metadata": {},
   "outputs": [],
   "source": [
    "new_nms = [\n",
    "        'EVT_late_1', 'EVT_early_1', 'EVT_proliferating', 'EVT_early_lowUMI_1', 'EVT_late_2', 'SCT', 'TOM_VCT',\n",
    "        'EVT_early_3', 'EVT_intermediate_2', 'TOM_VCT_proliferating', 'EVT_intermediate_1', 'SCT_lowUMI',\n",
    "        'EVT_intermediate_lowUMI', 'VCT', 'EVT_early_lowUMI_2', 'EVT_late_lowUMI', 'VCT_lowUMI', 'EVT_early_2',\n",
    "        'EVT_late_3', 'TOM_SCT']\n",
    "adata.obs['celltype'] = adata.obs['leiden'].copy()\n",
    "adata.rename_categories('celltype', new_nms)\n",
    "\n",
    "fig, axs = plt.subplots(ncols=2, nrows=1, figsize=(10, 5))\n",
    "for i, pp in enumerate(['leiden', 'celltype']):\n",
    "    sc.pl.umap(adata, color=pp, legend_loc='on data', legend_fontsize=6, show=False, ax=axs[i])"
   ]
  },
  {
   "cell_type": "markdown",
   "metadata": {},
   "source": [
    "Unsupervised hierarchical clustering for all cell types based on highly variable genes."
   ]
  },
  {
   "cell_type": "code",
   "execution_count": null,
   "metadata": {},
   "outputs": [],
   "source": [
    "sc.tl.dendrogram(adata, var_names=adata.var_names, use_rep='X', groupby='celltype', linkage_method='ward')\n",
    "sc.pl.dendrogram(adata, groupby='celltype')"
   ]
  },
  {
   "cell_type": "markdown",
   "metadata": {},
   "source": [
    "Plot cells from each donor and each time point. The fourth donor failed to be differentiated to EVT."
   ]
  },
  {
   "cell_type": "code",
   "execution_count": null,
   "metadata": {},
   "outputs": [],
   "source": [
    "fig, axs = plt.subplots(ncols=6, nrows=2, figsize=(30, 10))\n",
    "##donors\n",
    "for i, indiv in enumerate([f'ID{j+1}' for j in range(6)]):\n",
    "    sc.pl.umap(adata, color='ID', groups=[indiv], palette=['red'], title=indiv, legend_loc='none', frameon=False, show=False, ax=axs[0, i])\n",
    "##time points\n",
    "for i, ti in enumerate(['-48H', '0H', '3H', '24H', '48H', '96H']):\n",
    "    sc.pl.umap(adata, color='tp', groups=[ti], palette=['red'], title=ti, legend_loc='none', frameon=False, show=False, ax=axs[1, i])"
   ]
  },
  {
   "cell_type": "markdown",
   "metadata": {},
   "source": [
    "The clusters with low number of genes detected, together with the cells from the fourth donor which failed to be differentiated to EVT, were excluded from the following analysis. The data integration was re-conducted using scVI."
   ]
  },
  {
   "cell_type": "code",
   "execution_count": null,
   "metadata": {},
   "outputs": [],
   "source": [
    "adata = adata.raw.to_adata()\n",
    "##filtering cells with low UMI and from donor 4\n",
    "ind1 = adata.obs['celltype'].str.contains('lowUMI').values\n",
    "ind2 = (adata.obs['ID'] != 'ID4')\n",
    "ind = ((~ind1) & ind2)\n",
    "adata = adata[ind, :].copy()\n",
    "sc.pp.filter_genes(adata, min_cells=20)\n",
    "adata.layers['counts'] = adata.X.copy()\n",
    "sc.pp.normalize_total(adata, target_sum=1e4)\n",
    "sc.pp.log1p(adata)\n",
    "adata.raw = adata\n",
    "sc.pp.highly_variable_genes(adata, layer='counts', n_top_genes=hvg, flavor='seurat_v3', batch_key='ID', subset=True)\n",
    "\n",
    "##run scVI\n",
    "scvi.data.setup_anndata(adata, layer=\"counts\", batch_key=\"ID\")\n",
    "vae = scvi.model.SCVI(adata, n_latent=lv)\n",
    "vae.train()\n",
    "adata.obsm[\"X_scVI\"] = vae.get_latent_representation()\n",
    "sc.pp.neighbors(adata, use_rep=\"X_scVI\")\n",
    "sc.tl.leiden(adata)\n",
    "sc.tl.umap(adata, min_dist=0.3)\n",
    "\n",
    "## visualize the high quality cells\n",
    "sc.pl.umap(adata, color='celltype', legend_loc='on data', legend_fontsize=6, frameon=False)"
   ]
  },
  {
   "cell_type": "markdown",
   "metadata": {},
   "source": [
    "Plot the known marker genes across the cell types."
   ]
  },
  {
   "cell_type": "code",
   "execution_count": null,
   "metadata": {},
   "outputs": [],
   "source": [
    "vct_mk = ['PAGE4', 'PEG10', 'PARP1', 'DUSP9', 'CYSTM1', 'ALDH7A1', 'BTG3', 'PEG3', 'PNP', 'MPC2', 'MEST', 'ISYNA1', 'MLLT1', 'PMAIP1', 'JUN']\n",
    "sct_mk = ['CYP19A1', 'LCMT1-AS2', 'GDF15', 'ERVFRD-1', 'HSPB8', 'PRKCZ', 'SLC22A11', 'INSL4']\n",
    "evt_mk = ['HLA-G', 'FSTL3', 'DIO2', 'PLAC8', 'TNNI2', 'PTPRF', 'EFNA1', 'FN1', 'C12orf75', 'FLNB', 'COL4A1', 'ITGA5', 'FXYD5', 'NOTUM', 'C15orf48', 'MMP2', 'HPGD', 'TIMP1', 'MCAM', 'AIF1L', 'PAPPA2', 'AOC1', 'RAC1', 'CD81', 'PRG2', 'PAPPA']\n",
    "ggs = vct_mk + sct_mk + evt_mk\n",
    "\n",
    "reorder_nms = ['TOM_VCT_proliferating', 'TOM_VCT', 'VCT',\n",
    "                'TOM_SCT', 'SCT',\n",
    "                'EVT_proliferating', 'EVT_early_1', 'EVT_early_2', 'EVT_early_3',\n",
    "                'EVT_intermediate_1', 'EVT_intermediate_2',\n",
    "                'EVT_late_1', 'EVT_late_2', 'EVT_late_3']\n",
    "sc.pl.dotplot(adata, ggs, groupby='celltype', standard_scale='var', cmap='GnBu', categories_order=reorder_nms)"
   ]
  }
 ],
 "metadata": {
  "kernelspec": {
   "display_name": "Python 3",
   "language": "python",
   "name": "python3"
  },
  "language_info": {
   "codemirror_mode": {
    "name": "ipython",
    "version": 3
   },
   "file_extension": ".py",
   "mimetype": "text/x-python",
   "name": "python",
   "nbconvert_exporter": "python",
   "pygments_lexer": "ipython3",
   "version": "3.8.5"
  }
 },
 "nbformat": 4,
 "nbformat_minor": 4
}
