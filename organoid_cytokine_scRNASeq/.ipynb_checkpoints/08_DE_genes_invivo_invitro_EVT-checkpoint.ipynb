{
 "cells": [
  {
   "cell_type": "code",
   "execution_count": 1,
   "metadata": {},
   "outputs": [],
   "source": [
    "import scanpy as sc\n",
    "import pandas as pd\n",
    "import numpy as np\n",
    "import matplotlib.pyplot as plt"
   ]
  },
  {
   "cell_type": "markdown",
   "metadata": {},
   "source": [
    "Firstly, we detected gene expression changes induced by uNK cytokines in the organoids. Specifically, for each cell type, we compared the expression level of genes in cells treated with cytokines versus untreated ones. Here we focused on the molecular changes in EVT_late_3 subtype which highly resembled the in vivo iEVT and was most affected by cytokines."
   ]
  },
  {
   "cell_type": "code",
   "execution_count": null,
   "metadata": {},
   "outputs": [],
   "source": [
    "adata = sc.read('../../../scvi_remove_lowUMI/HVG_1000_latent_10_res.h5ad')\n",
    "adata.obs['CQ'] = adata.obs['celltype'].astype(str) + '_' + adata.obs['activation_status'].astype(str)\n",
    "\n",
    "lgfd, pval, pct1, pct2  = [], [], [], []\n",
    "ctys = ['TOM_VCT_proliferating', 'TOM_VCT', 'TOM_SCT', 'VCT', 'SCT',\n",
    "        'EVT_proliferating', 'EVT_early_1', 'EVT_early_2', 'EVT_early_3',\n",
    "        'EVT_intermediate_1', 'EVT_intermediate_2',\n",
    "        'EVT_late_1', 'EVT_late_2', 'EVT_late_3']\n",
    "ggs = adata.raw.var_names\n",
    "for cty in ctys:\n",
    "    gp = cty + '_cytokines'\n",
    "    rf = cty + '_no_cytokines'\n",
    "    sc.tl.rank_genes_groups(adata, groupby='CQ', groups=[gp], reference=rf, method='wilcoxon', corr_method='bonferroni', pts=True)\n",
    "    gg = adata.uns['rank_genes_groups']['names'][gp]\n",
    "    pj = pd.DataFrame(adata.uns['rank_genes_groups']['pvals_adj'][gp], index=gg).loc[ggs, 0].values\n",
    "    lf = pd.DataFrame(adata.uns['rank_genes_groups']['logfoldchanges'][gp], index=gg).loc[ggs, 0].values\n",
    "    pts = adata.uns['rank_genes_groups']['pts']\n",
    "    pt1 = pts.loc[ggs, gp].values\n",
    "    pt2 = pts.loc[ggs, rf].values\n",
    "    pval.append(pj)\n",
    "    lgfd.append(lf)\n",
    "    pct1.append(pt1)\n",
    "    pct2.append(pt2)\n",
    "lgfd = pd.DataFrame(lgfd, columns=ggs, index=ctys).T\n",
    "pval = pd.DataFrame(pval, columns=ggs, index=ctys).T\n",
    "pct1 = pd.DataFrame(pct1, columns=ggs, index=ctys).T\n",
    "pct2 = pd.DataFrame(pct2, columns=ggs, index=ctys).T\n",
    "\n",
    "##focus on subtype EVT_late_3\n",
    "de_invitro = pd.DataFrame(dict(padj=pj['EVT_late_3'], lgfd=lf['EVT_late_3'], pct1=pt1['EVT_late_3'], pct2=pt2['EVT_late_3']), index=pj.index)"
   ]
  },
  {
   "cell_type": "markdown",
   "metadata": {},
   "source": [
    "To examine their profiles in vivo between EVT located at the proximal end of the cell column and iEVT, we considered two in vivo datasets (snRNA-seq and scRNA-seq). Specifically, Wilcoxon test was performed between EVT cells located in the cell column (VCT_CCC and EVT_1) and those in deeper decidua (iEVT and GC) (snRNA-seq), as well as between EVT cells collected from placenta and those from decidua (scRNA-seq)."
   ]
  },
  {
   "cell_type": "code",
   "execution_count": null,
   "metadata": {},
   "outputs": [],
   "source": [
    "##snRNA-seq in vivo dataset\n",
    "sn_adata = sc.read('../../../adata_P13_trophoblast_raw_counts_in_raw_normlog_counts_in_X_for_download.h5ad')\n",
    "sn_adata.obs['celltype'] = sn_adata.obs['final_annot_all_troph_corrected'].astype(str)\n",
    "sn_adata.obs.loc[sn_adata.obs['celltype']=='VCT_CCC', 'celltype'] = 'EVT_1'\n",
    "sn_adata.obs.loc[sn_adata.obs['celltype']=='GC', 'celltype'] = 'iEVT'\n",
    "sc.tl.rank_genes_groups(sn_adata, groupby='celltype', groups=['iEVT'], reference='EVT_1', method='wilcoxon', corr_method='bonferroni', pts=True, use_raw=False)\n",
    "gg = sn_adata.uns['rank_genes_groups']['names']['iEVT']\n",
    "pj = sn_adata.uns['rank_genes_groups']['pvals_adj']['iEVT']\n",
    "lf = sn_adata.uns['rank_genes_groups']['logfoldchanges']['iEVT']\n",
    "pts = sn_adata.uns['rank_genes_groups']['pts']\n",
    "pt1 = pts.loc[gg, 'iEVT']\n",
    "pt2 = pts.loc[gg, 'EVT_1']\n",
    "de_invivo_sn = pd.DataFrame(dict(padj=pj, lgfd=lf, pct1=pt1, pct2=pt2), index=gg)\n",
    "\n",
    "##scRNA-seq in vivo dataset\n",
    "sc_adata = sc.read('../../../EVT_invitro_invivo_scvi_integration_res.h5ad')\n",
    "sc_adata = sc_adata.raw.to_adata()\n",
    "ind = (sc_adata.obs['annotation'] == 'EVT')\n",
    "sc_adata = sc_adata[ind, :].copy()\n",
    "sc.tl.rank_genes_groups(sc_adata, groupby='location', groups=['Decidua'], reference='Placenta', method='wilcoxon', corr_method='bonferroni', pts=True)\n",
    "gg = sc_adata.uns['rank_genes_groups']['names']['Decidua']\n",
    "pj = sc_adata.uns['rank_genes_groups']['pvals_adj']['Decidua']\n",
    "lf = sc_adata.uns['rank_genes_groups']['logfoldchanges']['Decidua']\n",
    "pts = sc_adata.uns['rank_genes_groups']['pts']\n",
    "pt1 = pts.loc[gg, 'Decidua']\n",
    "pt2 = pts.loc[gg, 'Placenta']\n",
    "de_invivo_sc = pd.DataFrame(dict(padj=pj, lgfd=lf, pct1=pt1, pct2=pt2), index=gg)"
   ]
  },
  {
   "cell_type": "markdown",
   "metadata": {},
   "source": [
    "The final genes with expression affected by cytokines in the organoids meanwhile showing in vitro-in vivo consistent changes were defined using three criteria: 1) corrected p-value calculated in EVT_late_3 subtype between cells treated with and without cytokines < 0.05; 2) corrected p-value estimated in the first in vivo dataset between EVT cells from cell columns and deep decidua < 0.05; 3) corrected p-value computed in the second in vivo dataset between placental and decidual EVT cells < 0.05; 4) consistent direction of changes across the three comparisons."
   ]
  },
  {
   "cell_type": "code",
   "execution_count": null,
   "metadata": {},
   "outputs": [],
   "source": [
    "##upregulation after cytokine treatment\n",
    "ind1 = ((de_invitro['padj'] < 0.05).values & (de_invitro['lgfd'] > 0).values)\n",
    "ind2 = ((de_invivo_sn['padj'] < 0.05).values & (de_invivo_sn['lgfd'] > 0).values)\n",
    "ind3 = ((de_invivo_sc['padj'] < 0.05).values & (de_invivo_sc['lgfd'] > 0).values)\n",
    "up_ggs = de_invitro.index[ind1].intersection(de_invivo_sn.index[ind2]).intersection(de_invivo_sc.index[ind3])\n",
    "print(len(up_ggs))\n",
    "\n",
    "##downregulation after cytokine treatment\n",
    "ind1 = ((de_invitro['padj'] < 0.05).values & (de_invitro['lgfd'] < 0).values)\n",
    "ind2 = ((de_invivo_sn['padj'] < 0.05).values & (de_invivo_sn['lgfd'] < 0).values)\n",
    "ind3 = ((de_invivo_sc['padj'] < 0.05).values & (de_invivo_sc['lgfd'] < 0).values)\n",
    "dn_ggs = de_invitro.index[ind1].intersection(de_invivo_sn.index[ind2]).intersection(de_invivo_sc.index[ind3])\n",
    "print(len(dn_ggs))"
   ]
  }
 ],
 "metadata": {
  "kernelspec": {
   "display_name": "Python 3",
   "language": "python",
   "name": "python3"
  },
  "language_info": {
   "codemirror_mode": {
    "name": "ipython",
    "version": 3
   },
   "file_extension": ".py",
   "mimetype": "text/x-python",
   "name": "python",
   "nbconvert_exporter": "python",
   "pygments_lexer": "ipython3",
   "version": "3.8.5"
  }
 },
 "nbformat": 4,
 "nbformat_minor": 4
}
